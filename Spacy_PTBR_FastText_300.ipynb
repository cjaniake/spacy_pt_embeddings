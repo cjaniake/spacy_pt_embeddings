{
 "cells": [
  {
   "cell_type": "code",
   "execution_count": 1,
   "metadata": {},
   "outputs": [],
   "source": [
    "import spacy\n",
    "import gensim\n",
    "import unidecode\n",
    "import json"
   ]
  },
  {
   "cell_type": "code",
   "execution_count": 2,
   "metadata": {},
   "outputs": [],
   "source": [
    "# cbow_s300.zip: http://143.107.183.175:22980/download.php?file=embeddings/fasttext/cbow_s300.zip\n",
    "\n",
    "model = gensim.models.KeyedVectors.load_word2vec_format('cbow_s300.txt')"
   ]
  },
  {
   "cell_type": "code",
   "execution_count": 3,
   "metadata": {},
   "outputs": [
    {
     "data": {
      "text/plain": [
       "929605"
      ]
     },
     "execution_count": 3,
     "metadata": {},
     "output_type": "execute_result"
    }
   ],
   "source": [
    "len(model.vocab)"
   ]
  },
  {
   "cell_type": "code",
   "execution_count": 4,
   "metadata": {},
   "outputs": [],
   "source": [
    "import re\n",
    "letras = re.compile(r'^([a-záéíóúâêîôûàãõ])+$')"
   ]
  },
  {
   "cell_type": "code",
   "execution_count": 5,
   "metadata": {},
   "outputs": [
    {
     "name": "stdout",
     "output_type": "stream",
     "text": [
      "704356\n"
     ]
    }
   ],
   "source": [
    "words = set()\n",
    "with open('vocabs.jsonl', 'w') as f:\n",
    "    f.write(json.dumps({\"lang\": \"pt\", \"settings\": {}}))\n",
    "    f.write('\\n')\n",
    "    for k,v in model.vocab.items():\n",
    "        if not letras.match(k): continue\n",
    "        words.add(k)\n",
    "        \n",
    "        entry = {\"orth\": k, \"id\": v.index, \"lower\": k, \"norm\": k, \"shape\": \"x\" * len(k), \"prefix\": k[0], \"suffix\": k, \"length\": len(k), \"cluster\": \"0\", \"prob\": 0, \"is_alpha\": False, \"is_ascii\": True, \"is_digit\": False, \"is_lower\": False, \"is_punct\": True, \"is_space\": False, \"is_title\": False, \"is_upper\": False, \"like_url\": False, \"like_num\": False, \"like_email\": False, \"is_stop\": False, \"is_oov\": False, \"is_quote\": False, \"is_left_punct\": False, \"is_right_punct\": False}\n",
    "        f.write(json.dumps(entry))\n",
    "        f.write('\\n')\n",
    "\n",
    "print(len(words))\n"
   ]
  },
  {
   "cell_type": "code",
   "execution_count": 6,
   "metadata": {},
   "outputs": [
    {
     "name": "stderr",
     "output_type": "stream",
     "text": [
      "/home/christian.janiake/anaconda3/envs/spacy/lib/python3.7/site-packages/ipykernel_launcher.py:9: DeprecationWarning: Call to deprecated `wv` (Attribute will be removed in 4.0.0, use self instead).\n",
      "  if __name__ == '__main__':\n"
     ]
    }
   ],
   "source": [
    "with open('fasttext_s300_w2vec.txt', 'w') as f:\n",
    "    f.write(str(len(words)))\n",
    "    f.write(' ')\n",
    "    f.write('300')\n",
    "    f.write('\\n')\n",
    "    \n",
    "    for word in words:\n",
    "        f.write(word)\n",
    "        for v in model.wv[word]:\n",
    "            f.write(' ')\n",
    "            f.write('{0:.6f}'.format(v))\n",
    "        f.write('\\n')\n"
   ]
  },
  {
   "cell_type": "code",
   "execution_count": 7,
   "metadata": {},
   "outputs": [
    {
     "name": "stdout",
     "output_type": "stream",
     "text": [
      "\u001b[2K\u001b[38;5;2m✔ Successfully created model\u001b[0m\n",
      "704356it [00:50, 14075.99it/s]t_s300_w2vec.txt\n",
      "\u001b[2K\u001b[38;5;2m✔ Loaded vectors from fasttext_s300_w2vec.txt\u001b[0m\n",
      "\u001b[38;5;2m✔ Sucessfully compiled vocab\u001b[0m\n",
      "704553 entries, 704356 vectors\n"
     ]
    }
   ],
   "source": [
    "!python -m spacy init-model -j vocabs.jsonl -v fasttext_s300_w2vec.txt pt ptbr_fasttext_300"
   ]
  },
  {
   "cell_type": "code",
   "execution_count": 8,
   "metadata": {},
   "outputs": [],
   "source": [
    "nlp_fasttext300 = spacy.load(\"ptbr_fasttext_300\")"
   ]
  },
  {
   "cell_type": "code",
   "execution_count": 9,
   "metadata": {},
   "outputs": [
    {
     "data": {
      "text/plain": [
       "True"
      ]
     },
     "execution_count": 9,
     "metadata": {},
     "output_type": "execute_result"
    }
   ],
   "source": [
    "nlp_fasttext300.vocab['padaria'].has_vector"
   ]
  },
  {
   "cell_type": "code",
   "execution_count": null,
   "metadata": {},
   "outputs": [],
   "source": []
  }
 ],
 "metadata": {
  "kernelspec": {
   "display_name": "Python [conda env:spacy] *",
   "language": "python",
   "name": "conda-env-spacy-py"
  },
  "language_info": {
   "codemirror_mode": {
    "name": "ipython",
    "version": 3
   },
   "file_extension": ".py",
   "mimetype": "text/x-python",
   "name": "python",
   "nbconvert_exporter": "python",
   "pygments_lexer": "ipython3",
   "version": "3.7.4"
  }
 },
 "nbformat": 4,
 "nbformat_minor": 2
}
